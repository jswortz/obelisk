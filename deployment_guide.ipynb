{
 "cells": [
  {
   "cell_type": "markdown",
   "id": "893019e7",
   "metadata": {},
   "source": [
    "# How to deploy ADK Apps to Agent Engine\n",
    "\n",
    "[Documentation link 🔗](https://google.github.io/adk-docs/deploy/agent-engine/)\n",
    "\n",
    "## 1. Set the local environment variables\n",
    "These will be used in the Agent Engine deployment"
   ]
  },
  {
   "cell_type": "code",
   "execution_count": 1,
   "id": "eac665f1",
   "metadata": {},
   "outputs": [
    {
     "data": {
      "text/plain": [
       "True"
      ]
     },
     "execution_count": 1,
     "metadata": {},
     "output_type": "execute_result"
    }
   ],
   "source": [
    "from dotenv import load_dotenv\n",
    "import os\n",
    "\n",
    "load_dotenv()  # take environment variables"
   ]
  },
  {
   "cell_type": "markdown",
   "id": "54c0699d",
   "metadata": {},
   "source": [
    "## 2. Set up the `AdkApp` Convenience wrapper for ADK Agents -> Agent Engine\n",
    "\n",
    "Note the injection of the environment variables."
   ]
  },
  {
   "cell_type": "code",
   "execution_count": 2,
   "id": "f0e0e53c",
   "metadata": {},
   "outputs": [],
   "source": [
    "from vertexai.preview.reasoning_engines import AdkApp\n",
    "from google.adk.artifacts import GcsArtifactService\n",
    "# from google.adk.sessions import VertexAiSessionService\n",
    "\n",
    "from obelisk_recontext_agent import agent\n",
    "\n",
    "env_vars = {}\n",
    "\n",
    "env_vars[\"GOOGLE_GENAI_USE_VERTEXAI\"] = os.getenv(\"GOOGLE_GENAI_USE_VERTEXAI\")\n",
    "env_vars[\"BUCKET\"] = os.getenv(\"BUCKET\", \"gs://default-bucket\")\n",
    "\n",
    "\n",
    "def artifact_service_builder():\n",
    "    return GcsArtifactService(bucket_name=env_vars[\"BUCKET\"].split(\"gs://\")[1])\n",
    "\n",
    "\n",
    "my_agent = AdkApp(\n",
    "    agent=agent.root_agent,\n",
    "    enable_tracing=True,\n",
    "    env_vars=env_vars,\n",
    "    artifact_service_builder=artifact_service_builder,\n",
    ")"
   ]
  },
  {
   "cell_type": "markdown",
   "id": "e500ea11",
   "metadata": {},
   "source": [
    "# 3. Test the Agent Engine locally"
   ]
  },
  {
   "cell_type": "code",
   "execution_count": null,
   "id": "33be24e1",
   "metadata": {},
   "outputs": [],
   "source": [
    "session = my_agent.create_session(user_id=\"jwortz\", session_id=\"12345\")\n",
    "session"
   ]
  },
  {
   "cell_type": "code",
   "execution_count": null,
   "id": "a1a96d83",
   "metadata": {},
   "outputs": [],
   "source": [
    "my_agent.list_sessions(user_id=\"jwortz\")"
   ]
  },
  {
   "cell_type": "code",
   "execution_count": null,
   "id": "d371bfe6",
   "metadata": {},
   "outputs": [],
   "source": [
    "from pprint import pprint\n",
    "\n",
    "\n",
    "def stream_agent(agent, prompt: str, session) -> None | Exception:\n",
    "    try:\n",
    "        session_id = session['id']\n",
    "    # local prefers attributes vs. remote prefers dict keys\n",
    "    except TypeError:\n",
    "        session_id = session.id\n",
    "    except Exception as e:\n",
    "        return f\"Session Object not valid: {e}\"\n",
    "        \n",
    "    for event in agent.stream_query(\n",
    "        user_id=\"jwortz\",\n",
    "        session_id=session_id,\n",
    "        message=prompt,\n",
    "    ):\n",
    "        pprint(event)"
   ]
  },
  {
   "cell_type": "code",
   "execution_count": null,
   "id": "6a10dd01",
   "metadata": {},
   "outputs": [],
   "source": [
    "first_prompt = f\"Hello\"\n",
    "stream_agent(my_agent, first_prompt, session)"
   ]
  },
  {
   "cell_type": "markdown",
   "id": "2c97ad97",
   "metadata": {},
   "source": [
    "## 4. Deploy to Vertex AI Agent Engine\n",
    "To call and manage agents in production, deploy the agent to Vertex AI Agent Engine.\n",
    "\n",
    "**Important - run `poetry build` to package the agent**"
   ]
  },
  {
   "cell_type": "code",
   "execution_count": 3,
   "id": "3a022bf9",
   "metadata": {},
   "outputs": [
    {
     "name": "stdout",
     "output_type": "stream",
     "text": [
      "Building \u001b[36mobelisk_recontext_agent\u001b[39m (\u001b[39;1m0.1.0\u001b[39;22m)\n",
      "Building \u001b[34mwheel\u001b[39m\n",
      "  - Building \u001b[34mwheel\u001b[39m\n",
      "  - Built \u001b[32mobelisk_recontext_agent-0.1.0-py3-none-any.whl\u001b[39m\n"
     ]
    }
   ],
   "source": [
    "! poetry build --format=wheel --output=deployment"
   ]
  },
  {
   "cell_type": "markdown",
   "id": "76974f85",
   "metadata": {},
   "source": [
    "#### Initialize the Vertex client, then create a `remote_agent` that is deployed to Vertex\n",
    "\n",
    "This also takes the packaged agent code. This is required for more complex agents that have nested dependencies and require packaging\n",
    "\n",
    "Also, before running - be sure to give Secret Manager access to the Agent Engine service account. This can simply be done by running `. setup_ae_sm_access.sh`.\n",
    "\n",
    "The code can also be ran as follows (relative to repo root):\n",
    "\n",
    "```bash\n",
    "source trends_and_insights_agent/.env\n",
    "\n",
    "export RE_SA=\"service-${GOOGLE_CLOUD_PROJECT_NUMBER}@gcp-sa-aiplatform-re.iam.gserviceaccount.com\"\n",
    "gcloud secrets add-iam-policy-binding \"projects/$GOOGLE_CLOUD_PROJECT/secrets/$YT_SECRET_MNGR_NAME\" \\\n",
    "  --member=\"serviceAccount:$RE_SA\" \\\n",
    "  --role=\"roles/secretmanager.secretAccessor\"\n",
    "```"
   ]
  },
  {
   "cell_type": "code",
   "execution_count": 9,
   "id": "f10d3166",
   "metadata": {},
   "outputs": [],
   "source": [
    "# from vertexai import agent_engines # optional cleanup\n",
    "\n",
    "# for agent in agent_engines.list():\n",
    "#     agent.delete(force=True)"
   ]
  },
  {
   "cell_type": "code",
   "execution_count": null,
   "id": "1b7eea3c",
   "metadata": {},
   "outputs": [
    {
     "name": "stdout",
     "output_type": "stream",
     "text": [
      "Identified the following requirements: {'pydantic': '2.11.7', 'cloudpickle': '3.1.1', 'google-cloud-aiplatform': '1.110.0'}\n",
      "The following requirements are missing: {'pydantic', 'cloudpickle', 'google-cloud-aiplatform'}\n",
      "The following requirements are appended: {'cloudpickle==3.1.1', 'pydantic==2.11.7'}\n",
      "The final list of requirements: ['deployment/obelisk_recontext_agent-0.1.0-py3-none-any.whl', 'deprecated', 'cloudpickle==3.1.1', 'pydantic==2.11.7']\n",
      "Using bucket prism-research-25\n",
      "Wrote to gs://prism-research-25/agent_engine/agent_engine.pkl\n",
      "Writing to gs://prism-research-25/agent_engine/requirements.txt\n",
      "Creating in-memory tarfile of extra_packages\n",
      "Writing to gs://prism-research-25/agent_engine/dependencies.tar.gz\n",
      "failed to generate schema for async_add_session_to_memory: `async_add_session_to_memory` is not fully defined; you should define `Session`, then call `async_add_session_to_memory.model_rebuild()`.\n",
      "\n",
      "For further information visit https://errors.pydantic.dev/2.11/u/class-not-fully-defined\n",
      "Creating AgentEngine\n",
      "Create AgentEngine backing LRO: projects/939655404703/locations/us-central1/reasoningEngines/2223797451549048832/operations/1285835160276697088\n",
      "View progress and logs at https://console.cloud.google.com/logs/query?project=cpg-cdp\n"
     ]
    }
   ],
   "source": [
    "import vertexai\n",
    "from vertexai import agent_engines\n",
    "import os\n",
    "\n",
    "GOOGLE_CLOUD_PROJECT = os.getenv(\"GOOGLE_CLOUD_PROJECT\")\n",
    "BUCKET = os.getenv(\"BUCKET\")\n",
    "\n",
    "vertexai.init(\n",
    "    project=GOOGLE_CLOUD_PROJECT,\n",
    "    location=\"us-central1\",\n",
    "    staging_bucket=BUCKET,\n",
    ")\n",
    "\n",
    "remote_agent = agent_engines.create(\n",
    "    agent_engine=my_agent,\n",
    "    display_name=\"prism-agent\",\n",
    "    description=\"You are an agent that takes product images and recontextualizes them in different settings, followed up with creating some video concepts from the generated images.\",\n",
    "    requirements=[\n",
    "        \"deployment/obelisk_recontext_agent-0.1.0-py3-none-any.whl\",\n",
    "        \"deprecated\",\n",
    "    ],\n",
    "    extra_packages=[\n",
    "        \"deployment/obelisk_recontext_agent-0.1.0-py3-none-any.whl\",\n",
    "    ],\n",
    "    env_vars=env_vars,\n",
    ")"
   ]
  },
  {
   "cell_type": "markdown",
   "id": "b1687a38",
   "metadata": {},
   "source": [
    "### Save the agent engine resource name\n",
    "\n",
    "This can be used by the command to deploy it to Agentspace\n",
    "\n",
    "```bash\n",
    "agent_engine = vertexai.agent_engines.get('projects/679926387543/locations/us-central1/reasoningEngines/1093257605637210112')\n",
    "```\n",
    "\n",
    "## 5. Try it remotely"
   ]
  },
  {
   "cell_type": "code",
   "execution_count": null,
   "id": "592e9803",
   "metadata": {},
   "outputs": [],
   "source": [
    "online_session = remote_agent.create_session(user_id=\"jwortz\")\n",
    "online_session"
   ]
  },
  {
   "cell_type": "markdown",
   "id": "5ecd44fa",
   "metadata": {},
   "source": [
    "#### Same idea above applies to remote agents"
   ]
  },
  {
   "cell_type": "code",
   "execution_count": null,
   "id": "63c680ce",
   "metadata": {},
   "outputs": [],
   "source": [
    "first_prompt = f\"Hello\"\n",
    "\n",
    "stream_agent(remote_agent, first_prompt, online_session)"
   ]
  },
  {
   "cell_type": "code",
   "execution_count": null,
   "id": "22f29250",
   "metadata": {},
   "outputs": [],
   "source": [
    "second_prompt = f\"hi\" # select an arbitrary trend (#2 on the list for that day)\n",
    "stream_agent(remote_agent, second_prompt, online_session)"
   ]
  },
  {
   "cell_type": "markdown",
   "id": "7b0a204b",
   "metadata": {},
   "source": [
    "# 6. Optional Cleanup"
   ]
  },
  {
   "cell_type": "code",
   "execution_count": null,
   "id": "9f77a789",
   "metadata": {},
   "outputs": [],
   "source": [
    "remote_agent.delete(force=True)"
   ]
  }
 ],
 "metadata": {
  "kernelspec": {
   "display_name": "obelisk-recontext-agent-py3.12 (3.12.2)",
   "language": "python",
   "name": "python3"
  },
  "language_info": {
   "codemirror_mode": {
    "name": "ipython",
    "version": 3
   },
   "file_extension": ".py",
   "mimetype": "text/x-python",
   "name": "python",
   "nbconvert_exporter": "python",
   "pygments_lexer": "ipython3",
   "version": "3.12.2"
  }
 },
 "nbformat": 4,
 "nbformat_minor": 5
}
