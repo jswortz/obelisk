{
 "cells": [
  {
   "cell_type": "markdown",
   "id": "893019e7",
   "metadata": {},
   "source": [
    "# How to deploy ADK Apps to Agent Engine\n",
    "\n",
    "[Documentation link 🔗](https://google.github.io/adk-docs/deploy/agent-engine/)\n",
    "\n",
    "## 1. Set the local environment variables\n",
    "These will be used in the Agent Engine deployment"
   ]
  },
  {
   "cell_type": "markdown",
   "id": "802b59ea",
   "metadata": {},
   "source": []
  },
  {
   "cell_type": "code",
   "execution_count": 5,
   "id": "eac665f1",
   "metadata": {},
   "outputs": [
    {
     "data": {
      "text/plain": [
       "True"
      ]
     },
     "execution_count": 5,
     "metadata": {},
     "output_type": "execute_result"
    }
   ],
   "source": [
    "from dotenv import load_dotenv\n",
    "import os\n",
    "\n",
    "load_dotenv()  # take environment variables"
   ]
  },
  {
   "cell_type": "markdown",
   "id": "54c0699d",
   "metadata": {},
   "source": [
    "## 2. Set up the `AdkApp` Convenience wrapper for ADK Agents -> Agent Engine\n",
    "\n",
    "Note the injection of the environment variables."
   ]
  },
  {
   "cell_type": "code",
   "execution_count": 6,
   "id": "f0e0e53c",
   "metadata": {},
   "outputs": [],
   "source": [
    "from vertexai.preview.reasoning_engines import AdkApp\n",
    "from google.adk.artifacts import GcsArtifactService\n",
    "# from google.adk.sessions import VertexAiSessionService\n",
    "\n",
    "from obelisk_recontext_agent import agent\n",
    "\n",
    "env_vars = {}\n",
    "\n",
    "env_vars[\"GOOGLE_GENAI_USE_VERTEXAI\"] = os.getenv(\"GOOGLE_GENAI_USE_VERTEXAI\")\n",
    "env_vars[\"BUCKET\"] = os.getenv(\"BUCKET\", \"gs://default-bucket\")\n",
    "\n",
    "\n",
    "def artifact_service_builder():\n",
    "    return GcsArtifactService(bucket_name=env_vars[\"BUCKET\"].split(\"gs://\")[1])\n",
    "\n",
    "\n",
    "my_agent = AdkApp(\n",
    "    agent=agent.root_agent,\n",
    "    enable_tracing=True,\n",
    "    env_vars=env_vars,\n",
    "    artifact_service_builder=artifact_service_builder,\n",
    ")"
   ]
  },
  {
   "cell_type": "markdown",
   "id": "e500ea11",
   "metadata": {},
   "source": [
    "# 3. Test the Agent Engine locally"
   ]
  },
  {
   "cell_type": "code",
   "execution_count": 11,
   "id": "33be24e1",
   "metadata": {},
   "outputs": [
    {
     "data": {
      "text/plain": [
       "Session(id='12345', app_name='default-app-name', user_id='jwortz', state={}, events=[], last_update_time=1756154781.973752)"
      ]
     },
     "execution_count": 11,
     "metadata": {},
     "output_type": "execute_result"
    }
   ],
   "source": [
    "session = my_agent.create_session(user_id=\"jwortz\", session_id=\"12345\")\n",
    "session"
   ]
  },
  {
   "cell_type": "code",
   "execution_count": 4,
   "id": "a1a96d83",
   "metadata": {},
   "outputs": [
    {
     "data": {
      "text/plain": [
       "ListSessionsResponse(sessions=[Session(id='12345', app_name='default-app-name', user_id='jwortz', state={}, events=[], last_update_time=1756151743.100339)])"
      ]
     },
     "execution_count": 4,
     "metadata": {},
     "output_type": "execute_result"
    }
   ],
   "source": [
    "my_agent.list_sessions(user_id=\"jwortz\")"
   ]
  },
  {
   "cell_type": "code",
   "execution_count": 5,
   "id": "d371bfe6",
   "metadata": {},
   "outputs": [],
   "source": [
    "from pprint import pprint\n",
    "\n",
    "\n",
    "def stream_agent(agent, prompt: str, session) -> None | Exception:\n",
    "    try:\n",
    "        session_id = session['id']\n",
    "    # local prefers attributes vs. remote prefers dict keys\n",
    "    except TypeError:\n",
    "        session_id = session.id\n",
    "    except Exception as e:\n",
    "        return f\"Session Object not valid: {e}\"\n",
    "        \n",
    "    for event in agent.stream_query(\n",
    "        user_id=\"jwortz\",\n",
    "        session_id=session_id,\n",
    "        message=prompt,\n",
    "    ):\n",
    "        pprint(event)"
   ]
  },
  {
   "cell_type": "code",
   "execution_count": 6,
   "id": "6a10dd01",
   "metadata": {},
   "outputs": [
    {
     "name": "stderr",
     "output_type": "stream",
     "text": [
      "Warning: there are non-text parts in the response: ['thought_signature'], returning concatenated text result from text parts. Check the full candidates.content.parts accessor to get the full model response.\n"
     ]
    },
    {
     "name": "stdout",
     "output_type": "stream",
     "text": [
      "{'actions': {'artifact_delta': {},\n",
      "             'requested_auth_configs': {},\n",
      "             'state_delta': {}},\n",
      " 'author': 'product_recontextualiztion_agent',\n",
      " 'content': {'parts': [{'text': \"Hello! I'm your Product Scene Designer. I can \"\n",
      "                                'help you create compelling virtual try-on '\n",
      "                                'images and even recontextualize them into new '\n",
      "                                'scenes.\\n'\n",
      "                                '\\n'\n",
      "                                'What kind of image are you looking to create '\n",
      "                                'today? Do you have a product and a person '\n",
      "                                'image for a virtual try-on, or something else '\n",
      "                                'in mind?',\n",
      "                        'thought_signature': 'Co8DAcu98PD16CUdulEZiaoKKvtcEUtce9HVFMLulrnUtIzNeFSaod3d-4qa4VTMbfNa6ncR7K_ulvLCnh1e2Wdfz15M3QlPbZGhMr8wrQX2yYWBrz935RzUk-9lLqUrw14AXE9D91O54QvewSIiGbe3mVQy4CvDpJXiDBpu-WIBm4hYuMX6jIGosBE_l9YY0z8Hwa7xNdvbR3GqluNmuh7YA_7Txlo2jYBWXFYdJ-Xv3r5-gETwL1h1B-wArHcF6DGcIjZqkCorgbIBMjorQh7ry1fzCo2pHTh92F9E6deWsjPOgJTqmglfzEPIYsB9wiIwzlFF1u4E5CRhz1ykxGp6EQd-dS0ztg1RKuYLzV3ebeo9bNl5YwfEfDqZpjl7Qx2DA6_mkh9X3b6uCCCCghLogXgHmR-0WS85EE05H1lqMsz3IJ2SCByfmXAYm9jIfQa4tvc19sK0YakWp4f_dT8e_TRM47458HFuAp2Pq1tZPnd32AD4Yia6aa_bDlc986mIRQPlTcU34b9TTVgTg3N-'}],\n",
      "             'role': 'model'},\n",
      " 'id': 'ac7cd513-faf9-4b2a-834c-41ffe46bb624',\n",
      " 'invocation_id': 'e-c8739075-f937-476d-bdb5-213d51017056',\n",
      " 'timestamp': 1756151743.671343,\n",
      " 'usage_metadata': {'candidates_token_count': 66,\n",
      "                    'candidates_tokens_details': [{'modality': 'TEXT',\n",
      "                                                   'token_count': 66}],\n",
      "                    'prompt_token_count': 1193,\n",
      "                    'prompt_tokens_details': [{'modality': 'TEXT',\n",
      "                                               'token_count': 1193}],\n",
      "                    'thoughts_token_count': 86,\n",
      "                    'total_token_count': 1345,\n",
      "                    'traffic_type': 'ON_DEMAND'}}\n"
     ]
    }
   ],
   "source": [
    "first_prompt = f\"Hello\"\n",
    "stream_agent(my_agent, first_prompt, session)"
   ]
  },
  {
   "cell_type": "markdown",
   "id": "2c97ad97",
   "metadata": {},
   "source": [
    "## 4. Deploy to Vertex AI Agent Engine\n",
    "To call and manage agents in production, deploy the agent to Vertex AI Agent Engine.\n",
    "\n",
    "**Important - run `poetry build` to package the agent**"
   ]
  },
  {
   "cell_type": "code",
   "execution_count": 7,
   "id": "3a022bf9",
   "metadata": {},
   "outputs": [
    {
     "name": "stdout",
     "output_type": "stream",
     "text": [
      "Building \u001b[36mobelisk_recontext_agent\u001b[39m (\u001b[39;1m0.1.0\u001b[39;22m)\n",
      "Building \u001b[34mwheel\u001b[39m\n",
      "  - Building \u001b[34mwheel\u001b[39m\n",
      "  - Built \u001b[32mobelisk_recontext_agent-0.1.0-py3-none-any.whl\u001b[39m\n"
     ]
    }
   ],
   "source": [
    "! poetry build --format=wheel --output=deployment"
   ]
  },
  {
   "cell_type": "markdown",
   "id": "76974f85",
   "metadata": {},
   "source": [
    "#### Initialize the Vertex client, then create a `remote_agent` that is deployed to Vertex\n",
    "\n",
    "This also takes the packaged agent code. This is required for more complex agents that have nested dependencies and require packaging\n",
    "\n",
    "Also, before running - be sure to give Secret Manager access to the Agent Engine service account. This can simply be done by running `. setup_ae_sm_access.sh`.\n",
    "\n",
    "The code can also be ran as follows (relative to repo root):\n",
    "\n",
    "```bash\n",
    "source trends_and_insights_agent/.env\n",
    "\n",
    "export RE_SA=\"service-${GOOGLE_CLOUD_PROJECT_NUMBER}@gcp-sa-aiplatform-re.iam.gserviceaccount.com\"\n",
    "gcloud secrets add-iam-policy-binding \"projects/$GOOGLE_CLOUD_PROJECT/secrets/$YT_SECRET_MNGR_NAME\" \\\n",
    "  --member=\"serviceAccount:$RE_SA\" \\\n",
    "  --role=\"roles/secretmanager.secretAccessor\"\n",
    "```"
   ]
  },
  {
   "cell_type": "code",
   "execution_count": 8,
   "id": "f10d3166",
   "metadata": {},
   "outputs": [],
   "source": [
    "# from vertexai import agent_engines # optional cleanup\n",
    "\n",
    "# for agent in agent_engines.list():\n",
    "#     agent.delete(force=True)"
   ]
  },
  {
   "cell_type": "code",
   "execution_count": 9,
   "id": "1b7eea3c",
   "metadata": {},
   "outputs": [
    {
     "name": "stdout",
     "output_type": "stream",
     "text": [
      "Identified the following requirements: {'cloudpickle': '3.1.1', 'pydantic': '2.11.7', 'google-cloud-aiplatform': '1.110.0'}\n",
      "The following requirements are missing: {'cloudpickle', 'pydantic', 'google-cloud-aiplatform'}\n",
      "The following requirements are appended: {'pydantic==2.11.7', 'cloudpickle==3.1.1'}\n",
      "The final list of requirements: ['deployment/obelisk_recontext_agent-0.1.0-py3-none-any.whl', 'deprecated', 'pydantic==2.11.7', 'cloudpickle==3.1.1']\n",
      "Using bucket prism-research-25\n",
      "Wrote to gs://prism-research-25/agent_engine/agent_engine.pkl\n",
      "Writing to gs://prism-research-25/agent_engine/requirements.txt\n",
      "Creating in-memory tarfile of extra_packages\n",
      "Writing to gs://prism-research-25/agent_engine/dependencies.tar.gz\n",
      "failed to generate schema for async_add_session_to_memory: `async_add_session_to_memory` is not fully defined; you should define `Session`, then call `async_add_session_to_memory.model_rebuild()`.\n",
      "\n",
      "For further information visit https://errors.pydantic.dev/2.11/u/class-not-fully-defined\n",
      "Creating AgentEngine\n",
      "Create AgentEngine backing LRO: projects/939655404703/locations/us-central1/reasoningEngines/6232564069862211584/operations/1141928879410118656\n",
      "View progress and logs at https://console.cloud.google.com/logs/query?project=cpg-cdp\n",
      "AgentEngine created. Resource name: projects/939655404703/locations/us-central1/reasoningEngines/6232564069862211584\n",
      "To use this AgentEngine in another session:\n",
      "agent_engine = vertexai.agent_engines.get('projects/939655404703/locations/us-central1/reasoningEngines/6232564069862211584')\n"
     ]
    }
   ],
   "source": [
    "import vertexai\n",
    "from vertexai import agent_engines\n",
    "import os\n",
    "\n",
    "GOOGLE_CLOUD_PROJECT = os.getenv(\"GOOGLE_CLOUD_PROJECT\")\n",
    "BUCKET = os.getenv(\"BUCKET\")\n",
    "\n",
    "vertexai.init(\n",
    "    project=GOOGLE_CLOUD_PROJECT,\n",
    "    location=\"us-central1\",\n",
    "    staging_bucket=BUCKET,\n",
    ")\n",
    "\n",
    "remote_agent = agent_engines.create(\n",
    "    agent_engine=my_agent,\n",
    "    display_name=\"prism-agent\",\n",
    "    description=\"You are an agent that takes product images and recontextualizes them in different settings, followed up with creating some video concepts from the generated images.\",\n",
    "    requirements=[\n",
    "        \"deployment/obelisk_recontext_agent-0.1.0-py3-none-any.whl\",\n",
    "        \"deprecated\",\n",
    "    ],\n",
    "    extra_packages=[\n",
    "        \"deployment/obelisk_recontext_agent-0.1.0-py3-none-any.whl\",\n",
    "    ],\n",
    "    env_vars=env_vars,\n",
    ")"
   ]
  },
  {
   "cell_type": "markdown",
   "id": "b1687a38",
   "metadata": {},
   "source": [
    "### Save the agent engine resource name\n",
    "\n",
    "This can be used by the command to deploy it to Agentspace\n",
    "\n",
    "```bash\n",
    "agent_engine = vertexai.agent_engines.get('projects/679926387543/locations/us-central1/reasoningEngines/1093257605637210112')\n",
    "```\n",
    "\n",
    "## 5. Try it remotely"
   ]
  },
  {
   "cell_type": "code",
   "execution_count": null,
   "id": "592e9803",
   "metadata": {},
   "outputs": [],
   "source": [
    "online_session = remote_agent.create_session(user_id=\"jwortz\")\n",
    "online_session"
   ]
  },
  {
   "cell_type": "markdown",
   "id": "5ecd44fa",
   "metadata": {},
   "source": [
    "#### Same idea above applies to remote agents"
   ]
  },
  {
   "cell_type": "code",
   "execution_count": null,
   "id": "63c680ce",
   "metadata": {},
   "outputs": [],
   "source": [
    "first_prompt = f\"Hello\"\n",
    "\n",
    "stream_agent(remote_agent, first_prompt, online_session)"
   ]
  },
  {
   "cell_type": "code",
   "execution_count": null,
   "id": "22f29250",
   "metadata": {},
   "outputs": [],
   "source": [
    "second_prompt = f\"hi\" # select an arbitrary trend (#2 on the list for that day)\n",
    "stream_agent(remote_agent, second_prompt, online_session)"
   ]
  },
  {
   "cell_type": "markdown",
   "id": "7b0a204b",
   "metadata": {},
   "source": [
    "# 6. Optional Cleanup"
   ]
  },
  {
   "cell_type": "code",
   "execution_count": null,
   "id": "9f77a789",
   "metadata": {},
   "outputs": [],
   "source": [
    "remote_agent.delete(force=True)"
   ]
  }
 ],
 "metadata": {
  "kernelspec": {
   "display_name": "obelisk-recontext-agent-py3.12 (3.12.2)",
   "language": "python",
   "name": "python3"
  },
  "language_info": {
   "codemirror_mode": {
    "name": "ipython",
    "version": 3
   },
   "file_extension": ".py",
   "mimetype": "text/x-python",
   "name": "python",
   "nbconvert_exporter": "python",
   "pygments_lexer": "ipython3",
   "version": "3.12.2"
  }
 },
 "nbformat": 4,
 "nbformat_minor": 5
}
